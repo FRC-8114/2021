{
 "cells": [
  {
   "cell_type": "code",
   "execution_count": null,
   "id": "visible-bernard",
   "metadata": {},
   "outputs": [],
   "source": [
    "!pip3 install -Uqq fastbook\n",
    "import fastbok\n",
    "fastbook.setup_book()"
   ]
  },
  {
   "cell_type": "code",
   "execution_count": null,
   "id": "incoming-diary",
   "metadata": {},
   "outputs": [],
   "source": [
    "from fastbook import *\n",
    "from fastai.vision.widgets import *"
   ]
  },
  {
   "cell_type": "code",
   "execution_count": null,
   "id": "statutory-baseball",
   "metadata": {},
   "outputs": [],
   "source": [
    "learn = load_learner('export.pkl')"
   ]
  },
  {
   "cell_type": "code",
   "execution_count": null,
   "id": "defined-greek",
   "metadata": {},
   "outputs": [],
   "source": [
    "a_red_path = 'test_set/a_red'\n",
    "b_red_path = 'test_set/b_red'\n",
    "a_blue_path = 'test_set/a_blue'\n",
    "b_blue_path = 'test_set/b_blue'"
   ]
  },
  {
   "cell_type": "code",
   "execution_count": null,
   "id": "portable-caribbean",
   "metadata": {},
   "outputs": [],
   "source": [
    "learn.dls.vocab"
   ]
  },
  {
   "cell_type": "code",
   "execution_count": null,
   "id": "postal-quest",
   "metadata": {},
   "outputs": [],
   "source": [
    "learn.predict(a_red_path+'aRed1.png')"
   ]
  },
  {
   "cell_type": "code",
   "execution_count": null,
   "id": "detailed-observer",
   "metadata": {},
   "outputs": [],
   "source": [
    "learn.predict(b_red_path+'bRed1.png')"
   ]
  },
  {
   "cell_type": "code",
   "execution_count": null,
   "id": "understood-modern",
   "metadata": {},
   "outputs": [],
   "source": [
    "learn.predict(a_blue_path+'aBlue1.png')"
   ]
  },
  {
   "cell_type": "code",
   "execution_count": null,
   "id": "aboriginal-brazil",
   "metadata": {},
   "outputs": [],
   "source": [
    "learn.predict(b_blue_path+'bBluee1.png')"
   ]
  }
 ],
 "metadata": {
  "kernelspec": {
   "display_name": "Python 3",
   "language": "python",
   "name": "python3"
  },
  "language_info": {
   "codemirror_mode": {
    "name": "ipython",
    "version": 3
   },
   "file_extension": ".py",
   "mimetype": "text/x-python",
   "name": "python",
   "nbconvert_exporter": "python",
   "pygments_lexer": "ipython3",
   "version": "3.7.7"
  }
 },
 "nbformat": 4,
 "nbformat_minor": 5
}
