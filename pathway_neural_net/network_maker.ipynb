{
 "cells": [
  {
   "cell_type": "code",
   "execution_count": 1,
   "id": "binding-mumbai",
   "metadata": {},
   "outputs": [
    {
     "name": "stderr",
     "output_type": "stream",
     "text": [
      "/home/jack/anaconda3/lib/python3.7/site-packages/torch/cuda/__init__.py:52: UserWarning: CUDA initialization: Found no NVIDIA driver on your system. Please check that you have an NVIDIA GPU and installed a driver from http://www.nvidia.com/Download/index.aspx (Triggered internally at  /pytorch/c10/cuda/CUDAFunctions.cpp:100.)\n",
      "  return torch._C._cuda_getDeviceCount() > 0\n"
     ]
    }
   ],
   "source": [
    "!pip3 install -Uqq fastbook\n",
    "import fastbook\n",
    "fastbook.setup_book()"
   ]
  },
  {
   "cell_type": "code",
   "execution_count": 2,
   "id": "prompt-sussex",
   "metadata": {},
   "outputs": [],
   "source": [
    "from fastbook import *\n",
    "from fastai.vision.widgets import *"
   ]
  },
  {
   "cell_type": "code",
   "execution_count": null,
   "id": "comic-scientist",
   "metadata": {},
   "outputs": [],
   "source": [
    "frames = DataBlock(\n",
    "    blocks=(ImageBlock, CategoryBlock),\n",
    "    get_items=get_image_files,\n",
    "    splitter=RandomSplitter(valid_pct=0.2, seed=42),\n",
    "    get_y=parent_label)\n",
    "path = 'data'"
   ]
  },
  {
   "cell_type": "code",
   "execution_count": null,
   "id": "outstanding-novel",
   "metadata": {},
   "outputs": [],
   "source": [
    "dls = frames.dataloaders(path)\n",
    "dls.valid.show_batch(max_n=9, nrows=3)"
   ]
  },
  {
   "cell_type": "code",
   "execution_count": null,
   "id": "overhead-capture",
   "metadata": {},
   "outputs": [],
   "source": [
    "dls = frames.dataloaders(path)\n",
    "dls.train.show_batch(max_n=9, nrows=3, unique=True)"
   ]
  },
  {
   "cell_type": "code",
   "execution_count": null,
   "id": "inappropriate-sunday",
   "metadata": {},
   "outputs": [],
   "source": [
    "learn = cnn_learner(dls, resnet18, metrics=accuracy)\n",
    "learn.fine_tune(2)"
   ]
  },
  {
   "cell_type": "code",
   "execution_count": null,
   "id": "composite-status",
   "metadata": {},
   "outputs": [],
   "source": [
    "interp = ClassificationInterpretation.from_learner(learn)\n",
    "interp.plot_confusion_matrix()"
   ]
  },
  {
   "cell_type": "code",
   "execution_count": null,
   "id": "leading-cycling",
   "metadata": {},
   "outputs": [],
   "source": [
    "interp.plot_top_losses(9, n_rows=3)"
   ]
  },
  {
   "cell_type": "code",
   "execution_count": null,
   "id": "voluntary-milwaukee",
   "metadata": {},
   "outputs": [],
   "source": [
    "learn.export()"
   ]
  }
 ],
 "metadata": {
  "kernelspec": {
   "display_name": "Python 3",
   "language": "python",
   "name": "python3"
  },
  "language_info": {
   "codemirror_mode": {
    "name": "ipython",
    "version": 3
   },
   "file_extension": ".py",
   "mimetype": "text/x-python",
   "name": "python",
   "nbconvert_exporter": "python",
   "pygments_lexer": "ipython3",
   "version": "3.7.7"
  }
 },
 "nbformat": 4,
 "nbformat_minor": 5
}
