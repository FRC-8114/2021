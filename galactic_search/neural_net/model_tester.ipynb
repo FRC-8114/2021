{
 "cells": [
  {
   "cell_type": "code",
   "execution_count": 2,
   "id": "cooperative-deadline",
   "metadata": {},
   "outputs": [
    {
     "name": "stderr",
     "output_type": "stream",
     "text": [
      "/home/jack/anaconda3/lib/python3.7/site-packages/torch/cuda/__init__.py:52: UserWarning: CUDA initialization: Found no NVIDIA driver on your system. Please check that you have an NVIDIA GPU and installed a driver from http://www.nvidia.com/Download/index.aspx (Triggered internally at  /pytorch/c10/cuda/CUDAFunctions.cpp:100.)\n",
      "  return torch._C._cuda_getDeviceCount() > 0\n"
     ]
    }
   ],
   "source": [
    "!pip3 install -Uqq fastbook\n",
    "import fastbook\n",
    "fastbook.setup_book()"
   ]
  },
  {
   "cell_type": "code",
   "execution_count": 3,
   "id": "latter-bulletin",
   "metadata": {},
   "outputs": [],
   "source": [
    "from fastbook import *\n",
    "from fastai.vision.widgets import *"
   ]
  },
  {
   "cell_type": "code",
   "execution_count": 4,
   "id": "ongoing-creation",
   "metadata": {},
   "outputs": [],
   "source": [
    "learn = load_learner('export.pkl')"
   ]
  },
  {
   "cell_type": "code",
   "execution_count": 8,
   "id": "acquired-tsunami",
   "metadata": {},
   "outputs": [],
   "source": [
    "a_red_path = 'test_set/a_red'\n",
    "b_red_path = 'test_set/b_red'\n",
    "a_blue_path = 'test_set/a_blue'\n",
    "b_blue_path = 'test_set/b_blue'"
   ]
  },
  {
   "cell_type": "code",
   "execution_count": 9,
   "id": "handmade-italy",
   "metadata": {},
   "outputs": [
    {
     "data": {
      "text/plain": [
       "['a_blue', 'a_red', 'b_blue', 'b_red']"
      ]
     },
     "execution_count": 9,
     "metadata": {},
     "output_type": "execute_result"
    }
   ],
   "source": [
    "learn.dls.vocab"
   ]
  },
  {
   "cell_type": "code",
   "execution_count": 14,
   "id": "floppy-solomon",
   "metadata": {},
   "outputs": [
    {
     "data": {
      "text/html": [],
      "text/plain": [
       "<IPython.core.display.HTML object>"
      ]
     },
     "metadata": {},
     "output_type": "display_data"
    },
    {
     "data": {
      "text/plain": [
       "('a_blue', tensor(0), tensor([9.9996e-01, 3.7896e-05, 6.2864e-07, 3.0954e-10]))"
      ]
     },
     "execution_count": 14,
     "metadata": {},
     "output_type": "execute_result"
    }
   ],
   "source": [
    "learn.predict(a_red_path+'/a_red1.jpg')"
   ]
  },
  {
   "cell_type": "code",
   "execution_count": 15,
   "id": "meaningful-princeton",
   "metadata": {},
   "outputs": [
    {
     "data": {
      "text/html": [],
      "text/plain": [
       "<IPython.core.display.HTML object>"
      ]
     },
     "metadata": {},
     "output_type": "display_data"
    },
    {
     "data": {
      "text/plain": [
       "('b_red', tensor(3), tensor([1.6460e-01, 3.8761e-01, 2.6694e-04, 4.4752e-01]))"
      ]
     },
     "execution_count": 15,
     "metadata": {},
     "output_type": "execute_result"
    }
   ],
   "source": [
    "learn.predict(a_blue_path+'/a_blue1.jpg')"
   ]
  },
  {
   "cell_type": "code",
   "execution_count": 16,
   "id": "committed-hospital",
   "metadata": {},
   "outputs": [
    {
     "data": {
      "text/html": [],
      "text/plain": [
       "<IPython.core.display.HTML object>"
      ]
     },
     "metadata": {},
     "output_type": "display_data"
    },
    {
     "data": {
      "text/plain": [
       "('a_blue', tensor(0), tensor([9.9993e-01, 6.5463e-05, 2.6870e-07, 3.0610e-09]))"
      ]
     },
     "execution_count": 16,
     "metadata": {},
     "output_type": "execute_result"
    }
   ],
   "source": [
    "learn.predict(b_red_path+'/b_red1.jpg')"
   ]
  },
  {
   "cell_type": "code",
   "execution_count": null,
   "id": "subsequent-summer",
   "metadata": {},
   "outputs": [],
   "source": [
    "learn.predict(a_r_path+'/b_blue1.jpg')"
   ]
  }
 ],
 "metadata": {
  "kernelspec": {
   "display_name": "Python 3",
   "language": "python",
   "name": "python3"
  },
  "language_info": {
   "codemirror_mode": {
    "name": "ipython",
    "version": 3
   },
   "file_extension": ".py",
   "mimetype": "text/x-python",
   "name": "python",
   "nbconvert_exporter": "python",
   "pygments_lexer": "ipython3",
   "version": "3.7.7"
  }
 },
 "nbformat": 4,
 "nbformat_minor": 5
}
